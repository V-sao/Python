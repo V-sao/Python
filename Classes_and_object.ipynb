{
  "nbformat": 4,
  "nbformat_minor": 0,
  "metadata": {
    "colab": {
      "provenance": [],
      "authorship_tag": "ABX9TyP+FPgKp9Irk57nJ6wZRchA",
      "include_colab_link": true
    },
    "kernelspec": {
      "name": "python3",
      "display_name": "Python 3"
    },
    "language_info": {
      "name": "python"
    }
  },
  "cells": [
    {
      "cell_type": "markdown",
      "metadata": {
        "id": "view-in-github",
        "colab_type": "text"
      },
      "source": [
        "<a href=\"https://colab.research.google.com/github/V-sao/Python/blob/Python/Classes_and_object.ipynb\" target=\"_parent\"><img src=\"https://colab.research.google.com/assets/colab-badge.svg\" alt=\"Open In Colab\"/></a>"
      ]
    },
    {
      "cell_type": "code",
      "execution_count": 1,
      "metadata": {
        "colab": {
          "base_uri": "https://localhost:8080/",
          "height": 135
        },
        "id": "6KIAjTPgpsVp",
        "outputId": "a77d48eb-ab74-42d4-e819-f0c651e7b971"
      },
      "outputs": [
        {
          "output_type": "error",
          "ename": "SyntaxError",
          "evalue": "ignored",
          "traceback": [
            "\u001b[0;36m  File \u001b[0;32m\"<ipython-input-1-b63401c52235>\"\u001b[0;36m, line \u001b[0;32m1\u001b[0m\n\u001b[0;31m    class student:\u001b[0m\n\u001b[0m                  ^\u001b[0m\n\u001b[0;31mSyntaxError\u001b[0m\u001b[0;31m:\u001b[0m unexpected EOF while parsing\n"
          ]
        }
      ],
      "source": [
        "class student:"
      ]
    },
    {
      "cell_type": "code",
      "source": [
        "##class cannot be empty\n",
        "class student:\n",
        "  pass "
      ],
      "metadata": {
        "id": "Mya5VVrgycyC"
      },
      "execution_count": 2,
      "outputs": []
    },
    {
      "cell_type": "code",
      "source": [
        "#object of student class\n",
        "s1 = student()\n",
        "s2 = student()\n",
        "print (s1, s2)"
      ],
      "metadata": {
        "colab": {
          "base_uri": "https://localhost:8080/"
        },
        "id": "_H4cnymoyr3n",
        "outputId": "3153f4a0-cc06-4665-a8d6-ae8d723f37b7"
      },
      "execution_count": 8,
      "outputs": [
        {
          "output_type": "stream",
          "name": "stdout",
          "text": [
            "<__main__.student object at 0x7efc9b22b0d0> <__main__.student object at 0x7efc9b22b760>\n"
          ]
        }
      ]
    }
  ]
}