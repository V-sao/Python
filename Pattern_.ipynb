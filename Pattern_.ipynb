{
  "nbformat": 4,
  "nbformat_minor": 0,
  "metadata": {
    "colab": {
      "provenance": [],
      "authorship_tag": "ABX9TyPtvQTpUKyMTVuoGU9X5hzu",
      "include_colab_link": true
    },
    "kernelspec": {
      "name": "python3",
      "display_name": "Python 3"
    },
    "language_info": {
      "name": "python"
    }
  },
  "cells": [
    {
      "cell_type": "markdown",
      "metadata": {
        "id": "view-in-github",
        "colab_type": "text"
      },
      "source": [
        "<a href=\"https://colab.research.google.com/github/V-sao/Python/blob/Printing-Patterns/Pattern_.ipynb\" target=\"_parent\"><img src=\"https://colab.research.google.com/assets/colab-badge.svg\" alt=\"Open In Colab\"/></a>"
      ]
    },
    {
      "cell_type": "markdown",
      "source": [
        "Pattern Questions Using While loop \n",
        "Simple Square Patterns \n",
        "\n",
        "#Q1 print '*' in n rows and n columns"
      ],
      "metadata": {
        "id": "_FhXxmCn8iCA"
      }
    },
    {
      "cell_type": "code",
      "source": [
        "n=int(input())\n",
        "i=1\n",
        "while i<=n:\n",
        "  j=1\n",
        "  while j<=n:\n",
        "    print('*',end='')\n",
        "    j+=1\n",
        "  print()\n",
        "  i+=1"
      ],
      "metadata": {
        "colab": {
          "base_uri": "https://localhost:8080/"
        },
        "id": "TeiUhnO3-Ffv",
        "outputId": "ddbd191b-a06a-432f-c6f0-8b064a4da578"
      },
      "execution_count": null,
      "outputs": [
        {
          "output_type": "stream",
          "name": "stdout",
          "text": [
            "5\n",
            "*****\n",
            "*****\n",
            "*****\n",
            "*****\n",
            "*****\n"
          ]
        }
      ]
    },
    {
      "cell_type": "markdown",
      "source": [
        "# Q2 print NumSquare pattern "
      ],
      "metadata": {
        "id": "XuhVr_7aCoCn"
      }
    },
    {
      "cell_type": "code",
      "source": [
        "n= int(input())\n",
        "i=1\n",
        "while i<=n:\n",
        "  j=1\n",
        "  while j<=n:\n",
        "    print(n,end='')\n",
        "    j+=1\n",
        "  print()\n",
        "  i+=1"
      ],
      "metadata": {
        "colab": {
          "base_uri": "https://localhost:8080/"
        },
        "id": "2txBhBLYDFU7",
        "outputId": "5e1dffa0-5a6c-4428-9f7c-6a113882f430"
      },
      "execution_count": null,
      "outputs": [
        {
          "output_type": "stream",
          "name": "stdout",
          "text": [
            "5\n",
            "55555\n",
            "55555\n",
            "55555\n",
            "55555\n",
            "55555\n"
          ]
        }
      ]
    },
    {
      "cell_type": "markdown",
      "source": [
        "# Q3 print pattern \n",
        "                 \n",
        "*   1111\n",
        "*   2222\n",
        "*   3333\n",
        "*   4444\n",
        "\n"
      ],
      "metadata": {
        "id": "5v5DYW4xGUN7"
      }
    },
    {
      "cell_type": "code",
      "source": [
        "n=int(input())\n",
        "i=1\n",
        "while i<=n:\n",
        "  j=1\n",
        "  while j<=n:\n",
        "    print(i,end='')\n",
        "    j+=1\n",
        "  print()\n",
        "  i+=1"
      ],
      "metadata": {
        "colab": {
          "base_uri": "https://localhost:8080/"
        },
        "id": "13tyuIVcJVsI",
        "outputId": "76f5db77-2328-4c35-9e2c-5e88a97fb09c"
      },
      "execution_count": null,
      "outputs": [
        {
          "output_type": "stream",
          "name": "stdout",
          "text": [
            "5\n",
            "11111\n",
            "22222\n",
            "33333\n",
            "44444\n",
            "55555\n"
          ]
        }
      ]
    },
    {
      "cell_type": "markdown",
      "source": [
        "# Q4 print pattern\n",
        "\n",
        "\n",
        "*   1234\n",
        "*   1234\n",
        "*   1234\n",
        "*   1234\n",
        "\n"
      ],
      "metadata": {
        "id": "jDE0QhXILLkD"
      }
    },
    {
      "cell_type": "code",
      "source": [
        "n=int(input())\n",
        "i=1\n",
        "while i<=n:\n",
        "  j=1\n",
        "  while j<=n:\n",
        "    print(j,end='')\n",
        "    j+=1\n",
        "  print()\n",
        "  i+=1"
      ],
      "metadata": {
        "colab": {
          "base_uri": "https://localhost:8080/"
        },
        "id": "mG-l70txLnnP",
        "outputId": "fccd4867-1113-46f8-f955-66a43f9db640"
      },
      "execution_count": null,
      "outputs": [
        {
          "output_type": "stream",
          "name": "stdout",
          "text": [
            "4\n",
            "1234\n",
            "1234\n",
            "1234\n",
            "1234\n"
          ]
        }
      ]
    },
    {
      "cell_type": "markdown",
      "source": [
        "# Q5 print pattern\n",
        "\n",
        "\n",
        "*   4321\n",
        "*   4321\n",
        "*   4321\n",
        "*   4321\n",
        "\n"
      ],
      "metadata": {
        "id": "HizkpA-yM859"
      }
    },
    {
      "cell_type": "code",
      "source": [
        "n= int(input())\n",
        "i=1\n",
        "while i<=n:\n",
        "  j=1\n",
        "  a=n\n",
        "  while j<=n:\n",
        "    print(a,end='')\n",
        "    j+=1\n",
        "    a-=1\n",
        "  print()\n",
        "  i+=1"
      ],
      "metadata": {
        "colab": {
          "base_uri": "https://localhost:8080/"
        },
        "id": "UdU4Z5ORNXNv",
        "outputId": "2bbc2e91-f868-4727-fea7-89cb093a22b7"
      },
      "execution_count": null,
      "outputs": [
        {
          "output_type": "stream",
          "name": "stdout",
          "text": [
            "5\n",
            "54321\n",
            "54321\n",
            "54321\n",
            "54321\n",
            "54321\n"
          ]
        }
      ]
    },
    {
      "cell_type": "markdown",
      "source": [
        "#Q6 print pattern\n",
        "\n",
        "*   1\n",
        "*   11\n",
        "*   111\n",
        "*   1111\n",
        "\n"
      ],
      "metadata": {
        "id": "5d5Jch7uTwvG"
      }
    },
    {
      "cell_type": "code",
      "source": [
        "n=int(input())\n",
        "i=1\n",
        "while i<=n:\n",
        "  j=1\n",
        "  while j<=i:\n",
        "   print(1,end='')\n",
        "   j+=1\n",
        "  print()\n",
        "  i+=1"
      ],
      "metadata": {
        "colab": {
          "base_uri": "https://localhost:8080/"
        },
        "id": "yFmDH4wSUDLo",
        "outputId": "1a0c1a74-fe62-4563-e137-5180105e9fa1"
      },
      "execution_count": null,
      "outputs": [
        {
          "output_type": "stream",
          "name": "stdout",
          "text": [
            "4\n",
            "1\n",
            "11\n",
            "111\n",
            "1111\n"
          ]
        }
      ]
    },
    {
      "cell_type": "markdown",
      "source": [
        "#Q7 PrintPattern\n",
        "\n",
        "*  1\n",
        "*  12\n",
        "*  123\n",
        "*  1234\n",
        "\n",
        "\n",
        "\n"
      ],
      "metadata": {
        "id": "ItCIicyWXmgf"
      }
    },
    {
      "cell_type": "code",
      "source": [
        "n=int(input())\n",
        "i=1\n",
        "while i<=n:\n",
        "  j=1\n",
        "  while j<=i:\n",
        "    print(j,end='')\n",
        "    j+=1\n",
        "  print()\n",
        "  i+=1"
      ],
      "metadata": {
        "colab": {
          "base_uri": "https://localhost:8080/"
        },
        "id": "4zxQzjcPX6Yh",
        "outputId": "37137371-e095-4a32-a559-e95cbaf7f0ca"
      },
      "execution_count": null,
      "outputs": [
        {
          "output_type": "stream",
          "name": "stdout",
          "text": [
            "4\n",
            "1\n",
            "12\n",
            "123\n",
            "1234\n"
          ]
        }
      ]
    },
    {
      "cell_type": "markdown",
      "source": [
        "#Q8 PrintPattern\n",
        "\n",
        "*  1\n",
        "*  23\n",
        "*  456\n",
        "*  78910\n",
        "\n",
        "\n",
        "\n"
      ],
      "metadata": {
        "id": "W1K-tqUEgKv0"
      }
    },
    {
      "cell_type": "code",
      "source": [
        "n=int(input())\n",
        "i=1\n",
        "a=1\n",
        "while i<=n:\n",
        "  j=1\n",
        "  while j<=i:\n",
        "    print(a,end='')\n",
        "    a+=1\n",
        "    j+=1\n",
        "  print()\n",
        "  i+=1"
      ],
      "metadata": {
        "colab": {
          "base_uri": "https://localhost:8080/"
        },
        "id": "uInQRoePg5HH",
        "outputId": "ddc73bfc-0897-4c8a-b18e-b984a3635569"
      },
      "execution_count": null,
      "outputs": [
        {
          "output_type": "stream",
          "name": "stdout",
          "text": [
            "4\n",
            "1\n",
            "23\n",
            "456\n",
            "78910\n"
          ]
        }
      ]
    },
    {
      "cell_type": "markdown",
      "source": [
        "#Q8 PrintPattern\n",
        "\n",
        "*  1\n",
        "*  23\n",
        "*  345\n",
        "*  4567\n"
      ],
      "metadata": {
        "id": "UJnTwNSHoZ3o"
      }
    },
    {
      "cell_type": "code",
      "source": [
        "n=int(input())\n",
        "i=1\n",
        "while i<=n:\n",
        "  j=1\n",
        " # a=i\n",
        "  while j<=i:\n",
        "    print((i+j)-1,end='')\n",
        "    j+=1\n",
        "    #a+=1\n",
        "  print()\n",
        "  i+=1\n"
      ],
      "metadata": {
        "colab": {
          "base_uri": "https://localhost:8080/"
        },
        "id": "V8caT27FpZ2F",
        "outputId": "dc3623d6-9b4d-4969-8b27-f70ade320cd1"
      },
      "execution_count": null,
      "outputs": [
        {
          "output_type": "stream",
          "name": "stdout",
          "text": [
            "4\n",
            "1\n",
            "23\n",
            "345\n",
            "4567\n"
          ]
        }
      ]
    }
  ]
}