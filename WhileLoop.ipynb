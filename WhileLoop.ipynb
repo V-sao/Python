{
  "nbformat": 4,
  "nbformat_minor": 0,
  "metadata": {
    "colab": {
      "provenance": [],
      "authorship_tag": "ABX9TyO3WPxzMl3wHZG7S9QsquBN",
      "include_colab_link": true
    },
    "kernelspec": {
      "name": "python3",
      "display_name": "Python 3"
    },
    "language_info": {
      "name": "python"
    }
  },
  "cells": [
    {
      "cell_type": "markdown",
      "metadata": {
        "id": "view-in-github",
        "colab_type": "text"
      },
      "source": [
        "<a href=\"https://colab.research.google.com/github/V-sao/Python/blob/Loops/WhileLoop.ipynb\" target=\"_parent\"><img src=\"https://colab.research.google.com/assets/colab-badge.svg\" alt=\"Open In Colab\"/></a>"
      ]
    },
    {
      "cell_type": "markdown",
      "source": [
        "#Printing first 10 Even nums."
      ],
      "metadata": {
        "id": "S7CnP1Yk7i5x"
      }
    },
    {
      "cell_type": "code",
      "source": [
        "Num=20\n",
        "i=2 \n",
        "while i<=20:\n",
        "  print(i,end=',')\n",
        "  i+=2"
      ],
      "metadata": {
        "colab": {
          "base_uri": "https://localhost:8080/"
        },
        "id": "tCSB5Xet8Fq5",
        "outputId": "0ab02b6b-e54c-4b69-df07-e9cc04bd2167"
      },
      "execution_count": 2,
      "outputs": [
        {
          "output_type": "stream",
          "name": "stdout",
          "text": [
            "2,4,6,8,10,12,14,16,18,20,"
          ]
        }
      ]
    },
    {
      "cell_type": "markdown",
      "source": [
        "#Printing first 10 Odd nums."
      ],
      "metadata": {
        "id": "WR9dv32v-FEF"
      }
    },
    {
      "cell_type": "code",
      "source": [
        "Num=20\n",
        "i=1\n",
        "while i<=20:\n",
        "  print(i,end=',')\n",
        "  i+=2"
      ],
      "metadata": {
        "colab": {
          "base_uri": "https://localhost:8080/"
        },
        "id": "6uADEWfc-Lc4",
        "outputId": "afb67b08-faaa-4ee4-c5d9-066ec353eea2"
      },
      "execution_count": 3,
      "outputs": [
        {
          "output_type": "stream",
          "name": "stdout",
          "text": [
            "1,3,5,7,9,11,13,15,17,19,"
          ]
        }
      ]
    },
    {
      "cell_type": "markdown",
      "source": [],
      "metadata": {
        "id": "E2KFIUxqCmkv"
      }
    }
  ]
}